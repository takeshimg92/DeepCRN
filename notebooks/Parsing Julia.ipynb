{
 "cells": [
  {
   "cell_type": "markdown",
   "metadata": {
    "id": "F2u94FarOsKB"
   },
   "source": [
    "We have all the ingredients to create a differential equation. We now need the Julia side."
   ]
  },
  {
   "cell_type": "markdown",
   "metadata": {},
   "source": [
    "Our notation:\n",
    "\n",
    "**Tensorflow side**\n",
    "- `z__l_i`: (notice the 2 underspaces before `l` and 1 before `i`) element `i` of layer `l`\n",
    "- `w__l_i_j`: weight for input `j` in layer `l-1` into `z__l_i`\n",
    "- `b__l_i`: bias term for `z__l_i`\n",
    "\n",
    "**ODE side**\n",
    "- `z__l_i`: (notice the 2 underspaces before `l` and 1 before `i`) element `i` of layer `l`\n",
    "- `k__l_i`: negative of `b__l_i`\n",
    "- `a__l_i`: activating template for `z__l_i`\n",
    "- `p__l_i`: pseudotemplate for `z__l_i`\n",
    "- `lambda__l_i_j`: weight for positive input `j` in layer `l-1` into `z__l_i`, given by equation below\n",
    "- `mu__l_i_j`: weight for negative input `j` in layer `l-1` into `z__l_i`, given by equation below\n",
    "\n",
    "Differential equations: `__l` becomes a $\\cdot^{[l]}$ and `_` becomes a subscript:\n",
    "\n",
    "$$\\frac{dz_i^{[l]}}{dt} = \\epsilon + \\frac{U a_i^{[l]}z_i^{[l]}}{k_i^{[l]} + z_i^{[l]}} - \\frac{V p_i^{[l]}z_i^{[l]}}{k_i^{[l]} + z_i^{[l]}} - \\alpha_i^{[l]}z_i^{[l]}$$\n",
    "\n",
    "$$\\frac{da_i^{[l]}}{dt} = \\sum_j \\lambda_{ij}^{[l]} x_j^{[l-1]} - \\beta a_i^{[l]}$$\n",
    "$$\\frac{dp_i^{[l]}}{dt} = \\sum_j \\mu_{ij}^{[l]} x_j^{[l-1]} - \\gamma p_i^{[l]}$$\n",
    "\n",
    "where $\\alpha_i^{[l]} = f(k_i^{[l]})$ for a fixed constant $f$, and\n",
    "$$\\lambda_{ij}^{[l]} = \\frac{\\beta \\alpha_{i}^{[l]}}{U} w_{ij}^{[l]} \\mathbb{1}_{w_{ij}^{[l]} > 0}$$\n",
    "$$\\mu_{ij}^{[l]} = -\\frac{\\gamma \\alpha_{i}^{[l]}}{V} w_{ij}^{[l]} \\mathbb{1}_{w_{ij}^{[l]} < 0}$$"
   ]
  },
  {
   "cell_type": "code",
   "execution_count": 259,
   "metadata": {
    "executionInfo": {
     "elapsed": 893,
     "status": "ok",
     "timestamp": 1606371299105,
     "user": {
      "displayName": "Alessandro Morita Gagliardi",
      "photoUrl": "https://lh3.googleusercontent.com/a-/AOh14Gh7nt-8gd-tJdP3-xh6ywcBZc2GWUc0ATJpc7XG1A=s64",
      "userId": "04705594699497612407"
     },
     "user_tz": -540
    },
    "id": "X8aj7Q62ERR_"
   },
   "outputs": [],
   "source": [
    "import tensorflow as tf\n",
    "import os\n",
    "import numpy as np"
   ]
  },
  {
   "cell_type": "code",
   "execution_count": 2,
   "metadata": {},
   "outputs": [],
   "source": [
    "import julia as jl\n",
    "# jl.install(julia=\"C:/Users/takes/AppData/Local/Programs/Julia 1.5.2/bin/julia.exe\")"
   ]
  },
  {
   "cell_type": "code",
   "execution_count": 5,
   "metadata": {},
   "outputs": [],
   "source": [
    "from julia import DifferentialEquations"
   ]
  },
  {
   "cell_type": "code",
   "execution_count": 8,
   "metadata": {},
   "outputs": [],
   "source": [
    "from julia import Main"
   ]
  },
  {
   "cell_type": "code",
   "execution_count": null,
   "metadata": {},
   "outputs": [],
   "source": [
    "DifferentialEquations.ODEProblem()"
   ]
  },
  {
   "cell_type": "code",
   "execution_count": 3,
   "metadata": {
    "executionInfo": {
     "elapsed": 853,
     "status": "ok",
     "timestamp": 1606369881228,
     "user": {
      "displayName": "Alessandro Morita Gagliardi",
      "photoUrl": "https://lh3.googleusercontent.com/a-/AOh14Gh7nt-8gd-tJdP3-xh6ywcBZc2GWUc0ATJpc7XG1A=s64",
      "userId": "04705594699497612407"
     },
     "user_tz": -540
    },
    "id": "KK61YjiHGmxN"
   },
   "outputs": [],
   "source": [
    "# from google.colab import drive\n",
    "# drive.mount('/content/gdrive')\n",
    "# model_folder = 'gdrive/My Drive/Research/Shared with Anthony/Deep Molecular Programming/job_035''"
   ]
  },
  {
   "cell_type": "code",
   "execution_count": 12,
   "metadata": {},
   "outputs": [],
   "source": [
    "model_folder = '../Research/Shared with Anthony/Deep Molecular Programming/job_035'"
   ]
  },
  {
   "cell_type": "code",
   "execution_count": 13,
   "metadata": {
    "executionInfo": {
     "elapsed": 1089,
     "status": "ok",
     "timestamp": 1606369917687,
     "user": {
      "displayName": "Alessandro Morita Gagliardi",
      "photoUrl": "https://lh3.googleusercontent.com/a-/AOh14Gh7nt-8gd-tJdP3-xh6ywcBZc2GWUc0ATJpc7XG1A=s64",
      "userId": "04705594699497612407"
     },
     "user_tz": -540
    },
    "id": "jXbKaqKKGyi1"
   },
   "outputs": [],
   "source": [
    "model = tf.keras.models.load_model(os.path.join(model_folder, 'model'))"
   ]
  },
  {
   "cell_type": "code",
   "execution_count": 11,
   "metadata": {
    "executionInfo": {
     "elapsed": 879,
     "status": "ok",
     "timestamp": 1606370255607,
     "user": {
      "displayName": "Alessandro Morita Gagliardi",
      "photoUrl": "https://lh3.googleusercontent.com/a-/AOh14Gh7nt-8gd-tJdP3-xh6ywcBZc2GWUc0ATJpc7XG1A=s64",
      "userId": "04705594699497612407"
     },
     "user_tz": -540
    },
    "id": "Mxpw2brWHx9L"
   },
   "outputs": [],
   "source": [
    "# https://leimao.github.io/blog/Dropout-Explained/\n",
    "# Dropout in Tensorflow works a bit different from original implementation"
   ]
  },
  {
   "cell_type": "code",
   "execution_count": 155,
   "metadata": {},
   "outputs": [],
   "source": [
    "ALPHA = 0.03\n",
    "BETA = 0.01\n",
    "GAMMA = 0.01\n",
    "U = 0.01\n",
    "V = 0.03\n",
    "EPS = 0.000001\n",
    "\n",
    "LOG_THRESH = 6\n",
    "THRESH = 10**(-LOG_THRESH)"
   ]
  },
  {
   "cell_type": "code",
   "execution_count": 203,
   "metadata": {},
   "outputs": [],
   "source": [
    "# Build W[l,i,j] and k[l,i]\n",
    "def build_weight_and_bias_dictionaries(model):\n",
    "\n",
    "    dense_layers = [layer for layer in model.layers if 'dense_' in layer.name]\n",
    "    W_dict, b_dict = {}, {}\n",
    "    for ll, layer in enumerate(dense_layers):\n",
    "        L = ll+1\n",
    "\n",
    "        w, b = layer.weights\n",
    "        assert 'kernel:' in w.name\n",
    "        assert 'bias:' in b.name\n",
    "        wt, b = w.numpy().T, b.numpy()\n",
    "\n",
    "        len_wt, len_this_layer = len(wt), len(b)\n",
    "        assert len_wt == len_this_layer\n",
    "\n",
    "        for i in range(len_this_layer):\n",
    "            len_prev_layer = len(wt[0])\n",
    "            b_dict[(L,i)] = b[i]\n",
    "            W_dict[(L,i)] = {}\n",
    "            for j in range(len_prev_layer):\n",
    "                W_dict[(L,i)][j] = wt[i][j]\n",
    "\n",
    "    return W_dict, b_dict        \n",
    "\n",
    "def build_degradation_constants(b):\n",
    "    # very simple model..\n",
    "    alpha = {key: ALPHA for key in b.keys()}\n",
    "    return alpha\n",
    "        \n",
    "def build_positive_and_negative_chemical_weights(W, alpha_dict, beta, gamma, U, V):\n",
    "    \n",
    "    def w_to_lambda(w, l_i_j):\n",
    "        l, i, _ = l_i_j\n",
    "        alpha = alpha_dict[(l,i)]\n",
    "        return beta * alpha * w / U\n",
    "\n",
    "    def w_to_mu(w, l_i_j):\n",
    "        l, i, _ = l_i_j\n",
    "        alpha = alpha_dict[(l,i)]\n",
    "        return - gamma * alpha * w / V\n",
    "    \n",
    "    lambda_dict, mu_dict = {}, {}\n",
    "    for l_i, subdict in W.items():\n",
    "        lambda_dict[l_i] = {}\n",
    "        mu_dict[l_i] = {}\n",
    "        for j, w_ij in subdict.items():\n",
    "            if w_ij > THRESH:\n",
    "                lambda_dict[l_i][j] = beta * alpha[l_i] * round(w_ij, LOG_THRESH) / U\n",
    "            elif w_ij < -THRESH:\n",
    "                mu_dict[l_i][j] = - gamma * alpha[l_i] * round(w_ij, LOG_THRESH) / V\n",
    "    \n",
    "    return lambda_dict, mu_dict"
   ]
  },
  {
   "cell_type": "code",
   "execution_count": 318,
   "metadata": {},
   "outputs": [],
   "source": [
    "W, b = build_weight_and_bias_dictionaries(model)\n",
    "alpha = build_degradation_constants(b)"
   ]
  },
  {
   "cell_type": "code",
   "execution_count": 319,
   "metadata": {},
   "outputs": [],
   "source": [
    "lambda_dict, mu_dict = build_positive_and_negative_chemical_weights(W, alpha, BETA, GAMMA, U, V)"
   ]
  },
  {
   "cell_type": "markdown",
   "metadata": {
    "id": "F2u94FarOsKB"
   },
   "source": [
    "We have all the ingredients to create a differential equation:\n",
    "\n",
    "* Given $(l,i)$ we can immediately write the 3 equations for `z__l_i, a__l_i` and `p__l_i`"
   ]
  },
  {
   "cell_type": "code",
   "execution_count": 412,
   "metadata": {},
   "outputs": [
    {
     "data": {
      "text/plain": [
       "[1, 2]"
      ]
     },
     "execution_count": 412,
     "metadata": {},
     "output_type": "execute_result"
    }
   ],
   "source": []
  },
  {
   "cell_type": "code",
   "execution_count": 420,
   "metadata": {},
   "outputs": [],
   "source": [
    "def _var(name, l, i):\n",
    "    return f\"{name}__{l}_{i}_\"\n",
    "\n",
    "def _dvar(name, l, i):\n",
    "    return \"d\" + _var(name, l, i) \n",
    "\n",
    "def _dvar_to_var(dvar):\n",
    "    return dvar[1:]\n",
    "\n",
    "def hidden_layer_list(W):\n",
    "    return list(set([key[0] for key in W.keys()]))\n",
    "\n",
    "def last_layer(W):\n",
    "    return hidden_layer_list(W)[-1]\n",
    "\n",
    "def nodes_in_layer(W, l):\n",
    "    ll = l if l > 0 else hidden_layer_list(W)[-1]\n",
    "    return [key[1] for key in W.keys() if key[0] == ll]"
   ]
  },
  {
   "cell_type": "code",
   "execution_count": 376,
   "metadata": {},
   "outputs": [],
   "source": [
    "def write_z_ode(b_dict, alpha_dict, l, i):\n",
    "    \n",
    "    var_list, dvar_list = [], []\n",
    "    \n",
    "    z = _var('z', l, i)\n",
    "    a = _var('a', l, i)\n",
    "    p = _var('p', l, i)\n",
    "    \n",
    "    dz = _dvar('z', l, i)\n",
    "\n",
    "    kM = -b_dict[(l,i)]\n",
    "    alpha = alpha_dict[(l,i)]\n",
    "    \n",
    "    dz_ode = f\"{dz} = ({EPS} + ({U} * {a} - {V} * {p}) * {z}/({kM} + {z}) - {alpha} * {z})\"\n",
    "    \n",
    "    # also return which variables and dvariables we have\n",
    "    var_list.extend([z, a, p])\n",
    "    dvar_list.append(dz)\n",
    "    \n",
    "    return dz_ode, var_list, dvar_list\n",
    "\n",
    "def write_aT_pT_odes(lambda_dict, mu_dict, alpha_dict, l, i):\n",
    "    \n",
    "    lambda_subdict, mu_subdict= lambda_dict[(l,i)], mu_dict[(l,i)]\n",
    "    \n",
    "    var_list, dvar_list = [], []\n",
    "\n",
    "    a = _var('a', l, i)\n",
    "    p = _var('p', l, i)\n",
    "    da = _dvar('a', l, i)\n",
    "    dp = _dvar('p', l, i)\n",
    "    \n",
    "    var_list.extend([a, p])\n",
    "    dvar_list.extend([da, dp])\n",
    "\n",
    "    # ODE for da/dt\n",
    "    positive_weight_expr_list = []\n",
    "    for j, lamb in lambda_subdict.items():\n",
    "        new_z = _var('z', l-1, j)\n",
    "        var_list.append(new_z)\n",
    "        positive_weight_expr_list.append(f\"{lamb} * {new_z} \")\n",
    "    da_ode = f\"{da} = (\" + \"\\n            +\".join(positive_weight_expr_list) + f\"\\n            - {BETA} * {a})\"\n",
    "    \n",
    "    # ODE for dp/dt\n",
    "    negative_weight_expr_list = []\n",
    "    for j, mu in mu_subdict.items():\n",
    "        new_z = _var('z', l-1, j)\n",
    "        var_list.append(new_z)\n",
    "        negative_weight_expr_list.append(f\"{mu} * {new_z}\")\n",
    "    dp_ode = f\"{dp} = (\"  + \"\\n            +\".join(negative_weight_expr_list) + f\"\\n            - {GAMMA} * {p})\"\n",
    "    \n",
    "    return da_ode, dp_ode, var_list, dvar_list"
   ]
  },
  {
   "cell_type": "code",
   "execution_count": 378,
   "metadata": {},
   "outputs": [
    {
     "name": "stdout",
     "output_type": "stream",
     "text": [
      "dz__1_3_ = (1e-06 + (0.01 * a__1_3_ - 0.03 * p__1_3_) * z__1_3_/(0.21644003689289093 + z__1_3_) - 0.03 * z__1_3_)\n"
     ]
    }
   ],
   "source": [
    "z_ode, var_list_1, dvar_list_1 = write_z_ode(b, alpha, 1,3)\n",
    "print(z_ode)"
   ]
  },
  {
   "cell_type": "code",
   "execution_count": 379,
   "metadata": {},
   "outputs": [
    {
     "name": "stdout",
     "output_type": "stream",
     "text": [
      "da__1_0_ = (0.000691589992493391 * z__0_2_ \n",
      "            +0.0002968200109899044 * z__0_6_ \n",
      "            +3.476999932900071e-05 * z__0_7_ \n",
      "            +0.0007314300164580344 * z__0_9_ \n",
      "            +0.006462299823760986 * z__0_12_ \n",
      "            +0.0014417399838566778 * z__0_15_ \n",
      "            +0.0002366100065410137 * z__0_17_ \n",
      "            +0.00034593000076711173 * z__0_18_ \n",
      "            +0.0007334099896252154 * z__0_19_ \n",
      "            +1.0800000163726507e-05 * z__0_20_ \n",
      "            +0.00015426000114530323 * z__0_22_ \n",
      "            +0.003345659896731376 * z__0_23_ \n",
      "            +0.0001420499989762902 * z__0_24_ \n",
      "            - 0.01 * a__1_0_)\n",
      "dp__1_0_ = (3.9999999899009705e-08 * z__0_0_\n",
      "            +3.17799998447299e-05 * z__0_1_\n",
      "            +0.00014859000220894812 * z__0_3_\n",
      "            +3.225999884307384e-05 * z__0_4_\n",
      "            +0.00031776998192071913 * z__0_5_\n",
      "            +6.072999909520149e-05 * z__0_8_\n",
      "            +0.00015549000352621078 * z__0_10_\n",
      "            +8.069000206887722e-05 * z__0_11_\n",
      "            +1.3099999632686375e-05 * z__0_13_\n",
      "            +0.0006658600270748137 * z__0_14_\n",
      "            +2.2760001011192797e-05 * z__0_16_\n",
      "            +8.999000303447246e-05 * z__0_21_\n",
      "            - 0.01 * p__1_0_)\n",
      "da__1_1_ = (1.4100000407779587e-06 * z__0_0_ \n",
      "            +1.145999995060265e-05 * z__0_4_ \n",
      "            +0.0005776200257241725 * z__0_7_ \n",
      "            +0.0036945299059152597 * z__0_8_ \n",
      "            +0.0056124597787857045 * z__0_9_ \n",
      "            +0.0005167799815535545 * z__0_12_ \n",
      "            +0.002257559895515442 * z__0_14_ \n",
      "            +0.0004499400034546852 * z__0_16_ \n",
      "            +0.0034809000045061106 * z__0_18_ \n",
      "            +7.73999956436455e-06 * z__0_20_ \n",
      "            +0.0016417200118303298 * z__0_21_ \n",
      "            +0.0016176000237464903 * z__0_22_ \n",
      "            - 0.01 * a__1_1_)\n",
      "dp__1_1_ = (6.393999792635441e-05 * z__0_1_\n",
      "            +9.050999768078327e-05 * z__0_2_\n",
      "            +0.00022864000871777534 * z__0_3_\n",
      "            +1.9259999971836804e-05 * z__0_5_\n",
      "            +0.0001412300020456314 * z__0_6_\n",
      "            +0.000101539995521307 * z__0_10_\n",
      "            +1.3070000568404793e-05 * z__0_11_\n",
      "            +0.0023418900370597837 * z__0_13_\n",
      "            +3.359999973326921e-05 * z__0_15_\n",
      "            +0.0011930300295352934 * z__0_17_\n",
      "            +0.00011481000110507012 * z__0_19_\n",
      "            +0.0007714699953794479 * z__0_23_\n",
      "            +4.999999873689376e-08 * z__0_24_\n",
      "            - 0.01 * p__1_1_)\n"
     ]
    }
   ],
   "source": [
    "l = 1\n",
    "var_list_ap = []\n",
    "dvar_list_ap = []\n",
    "for i in nodes_in_layer(W, l)[:2]:\n",
    "    a_ode, p_ode, var_list, dvar_list = write_aT_pT_odes(lambda_dict, mu_dict, alpha, l, i)\n",
    "    var_list_ap.extend(var_list)\n",
    "    dvar_list_ap.extend(dvar_list)\n",
    "    print(a_ode)\n",
    "    print(p_ode)"
   ]
  },
  {
   "cell_type": "markdown",
   "metadata": {},
   "source": [
    "## Putting into a format that makes sense for Julia"
   ]
  },
  {
   "cell_type": "code",
   "execution_count": 380,
   "metadata": {},
   "outputs": [],
   "source": [
    "model = tf.keras.models.load_model(os.path.join(model_folder, 'model'))"
   ]
  },
  {
   "cell_type": "code",
   "execution_count": 381,
   "metadata": {},
   "outputs": [],
   "source": [
    "W, b = build_weight_and_bias_dictionaries(model)\n",
    "alpha = build_degradation_constants(b)\n",
    "lambda_dict, mu_dict = build_positive_and_negative_chemical_weights(W, alpha, BETA, GAMMA, U, V)"
   ]
  },
  {
   "cell_type": "code",
   "execution_count": 382,
   "metadata": {},
   "outputs": [],
   "source": [
    "def add_tabs(string, nspaces):\n",
    "    return \" \"*(nspaces*4) + string"
   ]
  },
  {
   "cell_type": "code",
   "execution_count": 383,
   "metadata": {},
   "outputs": [],
   "source": [
    "def build_ode_string(W, b, alpha, lambda_dict, mu_dict):\n",
    "    layer_list = hidden_layer_list(W)\n",
    "    print(f\"Creating script for network with {len(layer_list)} hidden layer(s)\")\n",
    "    \n",
    "    ode_list, var_list, dvar_list = [], [], []\n",
    "    for l in layer_list:\n",
    "        for i in nodes_in_layer(W, l):\n",
    "            # Calculate ODE for z (add 4 spaces afterwards)\n",
    "            z_ode, var_list_1, dvar_list_1 = write_z_ode(b, alpha, l, i)\n",
    "            z_ode = add_tabs(z_ode, 1)\n",
    "            \n",
    "            # Calculate ODE for aT, pT (add 4 spaces afterwards)\n",
    "            a_ode, p_ode, var_list_2, dvar_list_2 = write_aT_pT_odes(lambda_dict, mu_dict, alpha, l, i)\n",
    "            a_ode = add_tabs(a_ode, 1)\n",
    "            p_ode = add_tabs(p_ode, 1)\n",
    "            \n",
    "            # Add equations to list of equations, and add variables to list of variables\n",
    "            var_list.extend(var_list_1 + var_list_2)\n",
    "            dvar_list.extend(dvar_list_1 + dvar_list_2)\n",
    "            ode_list.extend([z_ode, a_ode, p_ode])\n",
    "    \n",
    "    # Keep track of a dictionary mapping each variable to a number, eg. z_4__23: 2\n",
    "    # this is important because we will input everything in Julia as x[2] so we need\n",
    "    # to convert the result back to Python afterwards\n",
    "    enumerated_variables_dict = {var: num+1 for num, var in enumerate(set(var_list))}\n",
    "    var_to_julia_ode_var_dict = {var: f\"x[{n}]\" for var, n in enumerated_variables_dict.items()}\n",
    "    \n",
    "    full_ode_string = '\\n'.join(ode_list)\n",
    "    for key, val in var_to_julia_ode_var_dict.items():\n",
    "        full_ode_string = full_ode_string.replace(key, val)\n",
    "    \n",
    "    return full_ode_string, enumerated_variables_dict"
   ]
  },
  {
   "cell_type": "code",
   "execution_count": 384,
   "metadata": {},
   "outputs": [
    {
     "name": "stdout",
     "output_type": "stream",
     "text": [
      "Creating script for network with 2 hidden layer(s)\n"
     ]
    }
   ],
   "source": [
    "full_ode_string, enumerated_variables_dict = build_ode_string(W, b, alpha, lambda_dict, mu_dict)"
   ]
  },
  {
   "cell_type": "code",
   "execution_count": 385,
   "metadata": {},
   "outputs": [],
   "source": [
    "from collections import OrderedDict"
   ]
  },
  {
   "cell_type": "code",
   "execution_count": 406,
   "metadata": {},
   "outputs": [],
   "source": [
    "def build_initial_conditions(enumerated_variables_dict):\n",
    "    # We need to teach this guy how to really create initial conditions;\n",
    "    # for now make it random\n",
    "    from collections import OrderedDict\n",
    "    \n",
    "    initial_conditions_dict = {}\n",
    "    for var, n in enumerated_variables_dict.items():\n",
    "        initial_conditions_dict[n] = np.random.uniform() if 'z__0' in var else 1e-9\n",
    "    \n",
    "    ordered_initial_conditions = OrderedDict(sorted(initial_conditions_dict.items()))\n",
    "    return list(ordered_initial_conditions.values())"
   ]
  },
  {
   "cell_type": "code",
   "execution_count": 392,
   "metadata": {},
   "outputs": [],
   "source": [
    "initial_conditions = build_initial_conditions(enumerated_variables_dict)"
   ]
  },
  {
   "cell_type": "code",
   "execution_count": 393,
   "metadata": {},
   "outputs": [],
   "source": [
    "def create_julia_file_body(full_ode_string, initial_conditions, output_file):\n",
    "    string = \"using DifferentialEquations\\nusing DataFrames\\nusing CSV\"\n",
    "#     string+= \"\\nprintln(333)\\n\"\n",
    "    string+= \"\\n\\nfunction f!(dx, x, p, t)\\n\"\n",
    "    string+= full_ode_string\n",
    "    string+= \"\\nend\"\n",
    "    string+= f\"\\nx0 = {initial_conditions}\\ntspan = (0.0,1000.0)\"\n",
    "#     string += \"\\n\\nfunction f!(dx, x, p, t)\"\n",
    "#     string += \"\\n    dx = - 0.3 * x\\nend\"\n",
    "#     string += \"\\nx0 = 3\\ntspan=(0.0,2.0)\"\n",
    "    \n",
    "    string+= \"\\nprob=ODEProblem(f!,x0,tspan)\"\n",
    "#     string+= \"\\nprintln(444)\"\n",
    "    string+= \"\\nsol=solve(prob)\"\n",
    "    string+= \"\\ndf = DataFrame(sol)\"\n",
    "    string+= f\"\\nCSV.write(\\\"{output_file}\\\",df)\"\n",
    "    return string"
   ]
  },
  {
   "cell_type": "code",
   "execution_count": 394,
   "metadata": {},
   "outputs": [],
   "source": [
    "myfile_body = create_julia_file_body(full_ode_string, initial_conditions, \"test_output.csv\")\n",
    "with open('output.jl', 'w') as f:\n",
    "    f.write(myfile_body)"
   ]
  },
  {
   "cell_type": "code",
   "execution_count": null,
   "metadata": {},
   "outputs": [],
   "source": [
    "os.system('julia output.jl')"
   ]
  },
  {
   "cell_type": "markdown",
   "metadata": {},
   "source": [
    "Read output and find how the outputs varied"
   ]
  },
  {
   "cell_type": "code",
   "execution_count": 407,
   "metadata": {},
   "outputs": [],
   "source": [
    "df = pd.read_csv(\"test_output.csv\")"
   ]
  },
  {
   "cell_type": "code",
   "execution_count": 432,
   "metadata": {},
   "outputs": [],
   "source": [
    "def get_output_variables(W, enumerated_variables_dict):\n",
    "    last_layer_l = last_layer(W)\n",
    "    last_layer_nodes_i = nodes_in_layer(W,last_layer_l)\n",
    "\n",
    "    output_var_names = [_var('z', last_layer_l, i) for i in last_layer_nodes_i]\n",
    "    \n",
    "    return [enumerated_variables_dict[var] for var in set(output_var_names)]"
   ]
  },
  {
   "cell_type": "code",
   "execution_count": 440,
   "metadata": {},
   "outputs": [],
   "source": [
    "df_out = df.loc[get_output_variables(W, enumerated_variables_dict)].T\n",
    "df_out = df_out.rename({col: i for i, col in enumerate(df_out.columns)}, axis=1)\n",
    "df_out.index = range(len(df_out))"
   ]
  },
  {
   "cell_type": "code",
   "execution_count": 442,
   "metadata": {},
   "outputs": [
    {
     "data": {
      "text/plain": [
       "<AxesSubplot:>"
      ]
     },
     "execution_count": 442,
     "metadata": {},
     "output_type": "execute_result"
    },
    {
     "data": {
      "image/png": "[encoded data removed]",
      "text/plain": [
       "<Figure size 432x288 with 1 Axes>"
      ]
     },
     "metadata": {
      "needs_background": "light"
     },
     "output_type": "display_data"
    }
   ],
   "source": [
    "df_out.plot()"
   ]
  },
  {
   "cell_type": "code",
   "execution_count": 14,
   "metadata": {},
   "outputs": [],
   "source": [
    "# Installing Julia wrapper: https://towardsdatascience.com/run-native-julia-code-with-python-92d3e1079385\n",
    "# On Julia prompt:\n",
    "# using Pkg; Pkg.add(\"PyCall\")\n",
    "# build \"PyCall\"\n",
    "# On Anaconda (conda didnt work, used pip)\n",
    "# pip3 install julia"
   ]
  }
 ],
 "metadata": {
  "colab": {
   "authorship_tag": "ABX9TyPRrelZtnhbHyK0kcekvxf1",
   "collapsed_sections": [],
   "name": "Parsing Julia.ipynb",
   "provenance": []
  },
  "kernelspec": {
   "display_name": "Python 3",
   "language": "python",
   "name": "python3"
  },
  "language_info": {
   "codemirror_mode": {
    "name": "ipython",
    "version": 3
   },
   "file_extension": ".py",
   "mimetype": "text/x-python",
   "name": "python",
   "nbconvert_exporter": "python",
   "pygments_lexer": "ipython3",
   "version": "3.7.9"
  },
  "toc": {
   "base_numbering": 1,
   "nav_menu": {},
   "number_sections": true,
   "sideBar": true,
   "skip_h1_title": false,
   "title_cell": "Table of Contents",
   "title_sidebar": "Contents",
   "toc_cell": false,
   "toc_position": {},
   "toc_section_display": true,
   "toc_window_display": false
  }
 },
 "nbformat": 4,
 "nbformat_minor": 1
}
